{
 "cells": [
  {
   "cell_type": "code",
   "execution_count": 1,
   "metadata": {},
   "outputs": [
    {
     "name": "stderr",
     "output_type": "stream",
     "text": [
      "Using TensorFlow backend.\n"
     ]
    }
   ],
   "source": [
    "import numpy as np\n",
    "import pandas as pd\n",
    "import pydicom\n",
    "%matplotlib inline\n",
    "import matplotlib.pyplot as plt\n",
    "import keras\n",
    "from skimage.transform import resize\n",
    "from keras.models import model_from_json"
   ]
  },
  {
   "cell_type": "code",
   "execution_count": 2,
   "metadata": {},
   "outputs": [],
   "source": [
    "# This function reads in a .dcm file, checks the important fields for our device, and returns a numpy array\n",
    "# of just the imaging data\n",
    "def check_dicom(filename): \n",
    "    print('Load file {} ...'.format(filename))\n",
    "    ds = pydicom.dcmread(filename)\n",
    "    print (\"Study Description {}\".format(ds.StudyDescription))\n",
    "    print (\"Body Part Examined {}\".format(ds.BodyPartExamined))\n",
    "    print (\"Patient Position {}\".format(ds.PatientPosition))\n",
    "    \n",
    "    img = ds.pixel_array\n",
    "    return img\n",
    "    \n",
    "    \n",
    "# This function takes the numpy array output by check_dicom and \n",
    "# runs the appropriate pre-processing needed for our model input\n",
    "def preprocess_image(img,img_mean,img_std,img_size):\n",
    "    this_img_mean = np.mean(img)\n",
    "    this_img_std = np.std(img)\n",
    "    grey_img = (img - this_img_mean)/this_img_std\n",
    "    proc_img = resize(grey_img, img_size)\n",
    "    \n",
    "    return proc_img\n",
    "\n",
    "# This function loads in our trained model w/ weights and compiles it \n",
    "def load_model(model_path, weight_path):\n",
    "    json_file = open(model_path, \"r\") \n",
    "    loaded_model_json = json_file.read() \n",
    "    json_file.close() \n",
    "    my_model = model_from_json(loaded_model_json) \n",
    "    my_model.load_weights(weight_path)\n",
    "    return my_model\n",
    "\n",
    "# This function uses our device's threshold parameters to predict whether or not\n",
    "# the image shows the presence of pneumonia using our trained model\n",
    "def predict_image(model, img, thresh): \n",
    "    proba = model.predict(img)\n",
    "    print('Probability of pneumonia: {:.2f}'.format(proba[0][0]))\n",
    "    if (proba > thresh):\n",
    "        prediction = 'Pneumonia'\n",
    "    else:\n",
    "        prediction = 'No Pneumonia'\n",
    "    \n",
    "    return prediction"
   ]
  },
  {
   "cell_type": "code",
   "execution_count": 3,
   "metadata": {},
   "outputs": [
    {
     "name": "stdout",
     "output_type": "stream",
     "text": [
      "Load file test1.dcm ...\n",
      "Study Description No Finding\n",
      "Body Part Examined CHEST\n",
      "Patient Position PA\n",
      "Probability of pneumonia: 0.71\n",
      "Pneumonia\n",
      "Load file test2.dcm ...\n",
      "Study Description Cardiomegaly\n",
      "Body Part Examined CHEST\n",
      "Patient Position AP\n",
      "Probability of pneumonia: 0.72\n",
      "Pneumonia\n",
      "Load file test3.dcm ...\n",
      "Study Description Effusion\n",
      "Body Part Examined CHEST\n",
      "Patient Position AP\n",
      "Probability of pneumonia: 0.70\n",
      "Pneumonia\n",
      "Load file test4.dcm ...\n",
      "Study Description No Finding\n",
      "Body Part Examined RIBCAGE\n",
      "Patient Position PA\n",
      "Probability of pneumonia: 0.71\n",
      "Pneumonia\n",
      "Load file test5.dcm ...\n",
      "Study Description No Finding\n",
      "Body Part Examined CHEST\n",
      "Patient Position PA\n",
      "Probability of pneumonia: 0.71\n",
      "Pneumonia\n",
      "Load file test6.dcm ...\n",
      "Study Description No Finding\n",
      "Body Part Examined CHEST\n",
      "Patient Position XX\n",
      "Probability of pneumonia: 0.71\n",
      "Pneumonia\n"
     ]
    }
   ],
   "source": [
    "test_dicoms = ['test1.dcm','test2.dcm','test3.dcm','test4.dcm','test5.dcm','test6.dcm']\n",
    "model_path = \"my_model.json\"\n",
    "weight_path = \"xray_class_my_model.best.hdf5\"\n",
    "\n",
    "IMG_SIZE=(1,224,224,3) # For vgg16\n",
    "img_mean = 0 # loads the mean image value they used during training preprocessing\n",
    "img_std = 0 # loads the std dev image value they used during training preprocessing\n",
    "\n",
    "my_model = load_model(model_path, weight_path)\n",
    "thresh = 0.50763667\n",
    "\n",
    "# use the .dcm files to test prediction\n",
    "for i in test_dicoms:\n",
    "    img = np.array([])\n",
    "    img = check_dicom(i)\n",
    "    \n",
    "    if img is None:\n",
    "        continue\n",
    "        \n",
    "    img_proc = preprocess_image(img,img_mean,img_std,IMG_SIZE)\n",
    "    pred = predict_image(my_model,img_proc,thresh)\n",
    "    print(pred)"
   ]
  },
  {
   "cell_type": "code",
   "execution_count": null,
   "metadata": {},
   "outputs": [],
   "source": []
  }
 ],
 "metadata": {
  "kernelspec": {
   "display_name": "Python 3",
   "language": "python",
   "name": "python3"
  },
  "language_info": {
   "codemirror_mode": {
    "name": "ipython",
    "version": 3
   },
   "file_extension": ".py",
   "mimetype": "text/x-python",
   "name": "python",
   "nbconvert_exporter": "python",
   "pygments_lexer": "ipython3",
   "version": "3.7.6"
  }
 },
 "nbformat": 4,
 "nbformat_minor": 2
}
